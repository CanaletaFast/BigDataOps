{
 "cells": [
  {
   "cell_type": "code",
   "execution_count": null,
   "id": "0a3bc82c-251d-4761-ada8-aae71b3fb091",
   "metadata": {},
   "outputs": [],
   "source": [
    "# Spark Session\n",
    "from pyspark.sql import SparkSession\n",
    "\n",
    "spark = (\n",
    "    SparkSession\n",
    "    .builder\n",
    "    .appName(\"Reading and Parsing JSON Files/Data\")\n",
    "    .master(\"spark://spark-master:7077\")\n",
    "    .getOrCreate()\n",
    ")\n",
    "\n",
    "spark"
   ]
  },
  {
   "cell_type": "code",
   "execution_count": null,
   "id": "9cb26b96-2995-444e-bf15-679a25958c58",
   "metadata": {},
   "outputs": [],
   "source": [
    "# Read Single line JSON file\n",
    "\n",
    "df_single = spark.read.format(\"json\").load(\"data/input/order_singleline.json\")"
   ]
  },
  {
   "cell_type": "code",
   "execution_count": null,
   "id": "bad930ba-144d-47bb-8321-6a14451c71d2",
   "metadata": {},
   "outputs": [],
   "source": [
    "df_single.printSchema()"
   ]
  },
  {
   "cell_type": "code",
   "execution_count": null,
   "id": "04574d9e-2f44-4d6b-b812-8f7b5c9af209",
   "metadata": {},
   "outputs": [],
   "source": [
    "df_single.show()"
   ]
  },
  {
   "cell_type": "code",
   "execution_count": null,
   "id": "068f9c40-f8d5-4599-9ddf-0fa53dfc2bd5",
   "metadata": {},
   "outputs": [],
   "source": [
    "# Read Multiline JSON file\n",
    "\n",
    "df_multi = spark.read.format(\"json\").option(\"multiLine\", True).load(\"data/input/order_multiline.json\")"
   ]
  },
  {
   "cell_type": "code",
   "execution_count": null,
   "id": "8e938c8b-9af6-4a51-8bbf-96e336eb7571",
   "metadata": {},
   "outputs": [],
   "source": [
    "df_multi.printSchema()"
   ]
  },
  {
   "cell_type": "code",
   "execution_count": null,
   "id": "8d8f1a19-9cba-4291-845d-38d9ca160195",
   "metadata": {},
   "outputs": [],
   "source": [
    "df_multi.show()"
   ]
  },
  {
   "cell_type": "code",
   "execution_count": null,
   "id": "f85396ed-41e0-41e7-9aa3-1c8e9f6418bb",
   "metadata": {},
   "outputs": [],
   "source": [
    "df = spark.read.format(\"text\").load(\"data/input/order_singleline.json\")"
   ]
  },
  {
   "cell_type": "code",
   "execution_count": null,
   "id": "b206dc14-6d0d-49c7-8e6a-dbbe142092b7",
   "metadata": {},
   "outputs": [],
   "source": [
    "df.printSchema()"
   ]
  },
  {
   "cell_type": "code",
   "execution_count": null,
   "id": "92689ab1-a93b-4358-96c6-8f67ac5b899f",
   "metadata": {},
   "outputs": [],
   "source": [
    "df.show(truncate=False)"
   ]
  },
  {
   "cell_type": "code",
   "execution_count": null,
   "id": "ade6a7fb-83e3-4db8-9fc4-98c73a6341b6",
   "metadata": {},
   "outputs": [],
   "source": [
    "# With Schema\n",
    "\n",
    "_schema = \"customer_id string, order_id string, contact array<long>\"\n",
    "\n",
    "df_schema = spark.read.format(\"json\").schema(_schema).load(\"data/input/order_singleline.json\")"
   ]
  },
  {
   "cell_type": "code",
   "execution_count": null,
   "id": "0b70da0a-4786-457a-8393-ea4858f05fad",
   "metadata": {},
   "outputs": [],
   "source": [
    "df_schema.show()"
   ]
  },
  {
   "cell_type": "code",
   "execution_count": null,
   "id": "7ae5529b-a62b-4092-958f-f67aaeeb0cc2",
   "metadata": {},
   "outputs": [],
   "source": [
    "root\n",
    " |-- contact: array (nullable = true)\n",
    " |    |-- element: long (containsNull = true)\n",
    " |-- customer_id: string (nullable = true)\n",
    " |-- order_id: string (nullable = true)\n",
    " |-- order_line_items: array (nullable = true)\n",
    " |    |-- element: struct (containsNull = true)\n",
    " |    |    |-- amount: double (nullable = true)\n",
    " |    |    |-- item_id: string (nullable = true)\n",
    " |    |    |-- qty: long (nullable = true)"
   ]
  },
  {
   "cell_type": "code",
   "execution_count": null,
   "id": "afa2be60-ccca-45f3-bf6b-90ebf263b0ab",
   "metadata": {},
   "outputs": [],
   "source": [
    "_schema = \"contact array<string>, customer_id string, order_id string, order_line_items array<struct<amount double, item_id string, qty long>>\""
   ]
  },
  {
   "cell_type": "code",
   "execution_count": null,
   "id": "a647e4ad-c0a5-4467-af25-e40b46a670ac",
   "metadata": {},
   "outputs": [],
   "source": [
    "df_schema_new = spark.read.format(\"json\").schema(_schema).load(\"data/input/order_singleline.json\")"
   ]
  },
  {
   "cell_type": "code",
   "execution_count": null,
   "id": "60238f92-ca44-4948-baac-b8027d2f6ae5",
   "metadata": {},
   "outputs": [],
   "source": [
    "df_schema_new.printSchema()"
   ]
  },
  {
   "cell_type": "code",
   "execution_count": null,
   "id": "2c00fba8-367e-41e5-98fb-9f6857699fe6",
   "metadata": {},
   "outputs": [],
   "source": [
    "df_schema_new.show()"
   ]
  },
  {
   "cell_type": "code",
   "execution_count": null,
   "id": "1f0576b3-db93-4472-9dd9-814480315587",
   "metadata": {},
   "outputs": [],
   "source": [
    "# Function from_json to read from a column\n",
    "\n",
    "_schema = \"contact array<string>, customer_id string, order_id string, order_line_items array<struct<amount double, item_id string, qty long>>\"\n",
    "\n",
    "from pyspark.sql.functions import from_json\n",
    "\n",
    "df_expanded = df.withColumn(\"parsed\", from_json(df.value, _schema))\n"
   ]
  },
  {
   "cell_type": "code",
   "execution_count": null,
   "id": "f8d5fa40-0e75-4b99-b44e-f6656bce6c97",
   "metadata": {},
   "outputs": [],
   "source": [
    "df_expanded.printSchema()"
   ]
  },
  {
   "cell_type": "code",
   "execution_count": null,
   "id": "06605313-0101-4e79-8e20-0dd9b2cd6a85",
   "metadata": {},
   "outputs": [],
   "source": [
    "df_expanded.show()"
   ]
  },
  {
   "cell_type": "code",
   "execution_count": null,
   "id": "8aa2e00d-e882-4445-99f5-0765aacfecfc",
   "metadata": {},
   "outputs": [],
   "source": [
    "# Function to_json to parse a JSON string\n",
    "from pyspark.sql.functions import to_json\n",
    "\n",
    "df_unparsed = df_expanded.withColumn(\"unparsed\", to_json(df_expanded.parsed))"
   ]
  },
  {
   "cell_type": "code",
   "execution_count": null,
   "id": "0e863564-d6d3-4c47-839d-e0e751955ce5",
   "metadata": {},
   "outputs": [],
   "source": [
    "df_unparsed.printSchema()"
   ]
  },
  {
   "cell_type": "code",
   "execution_count": null,
   "id": "13f38abe-cdb3-4fd6-91e9-d61e5785fa24",
   "metadata": {},
   "outputs": [],
   "source": [
    "df_unparsed.select(\"unparsed\").show(truncate=False)"
   ]
  },
  {
   "cell_type": "code",
   "execution_count": null,
   "id": "d324986f-7175-484b-b1bd-e930c36aa53d",
   "metadata": {},
   "outputs": [],
   "source": [
    "# Get values from Parsed JSON\n",
    "\n",
    "df_1 = df_expanded.select(\"parsed.*\")"
   ]
  },
  {
   "cell_type": "code",
   "execution_count": null,
   "id": "0cc94126-2912-4dc2-8159-9becb35d2663",
   "metadata": {},
   "outputs": [],
   "source": [
    "from pyspark.sql.functions import explode\n",
    "\n",
    "df_2 = df_1.withColumn(\"expanded_line_items\", explode(\"order_line_items\"))"
   ]
  },
  {
   "cell_type": "code",
   "execution_count": null,
   "id": "79c9d611-8fef-45ac-8d97-6c282f18fd6e",
   "metadata": {},
   "outputs": [],
   "source": [
    "df_2.show()"
   ]
  },
  {
   "cell_type": "code",
   "execution_count": null,
   "id": "76120799-4eb9-4677-9279-19202416ab32",
   "metadata": {},
   "outputs": [],
   "source": [
    "df_3 = df_2.select(\"contact\", \"customer_id\", \"order_id\", \"expanded_line_items.*\")"
   ]
  },
  {
   "cell_type": "code",
   "execution_count": null,
   "id": "d6e0806c-4411-41f1-9809-1243e15c615d",
   "metadata": {},
   "outputs": [],
   "source": [
    "df_3.show()"
   ]
  },
  {
   "cell_type": "code",
   "execution_count": null,
   "id": "55b1b384-bcd3-4dba-bf0b-cc5709e8ed40",
   "metadata": {},
   "outputs": [],
   "source": [
    "# Explode Array fields\n",
    "df_final = df_3.withColumn(\"contact_expanded\", explode(\"contact\"))\n"
   ]
  },
  {
   "cell_type": "code",
   "execution_count": null,
   "id": "b9d8bb75-f280-4e38-ab9a-cfe7fc05531e",
   "metadata": {},
   "outputs": [],
   "source": [
    "df_final.printSchema()"
   ]
  },
  {
   "cell_type": "code",
   "execution_count": null,
   "id": "31d5b98f-b970-456f-a98d-b7dcaf2f3172",
   "metadata": {},
   "outputs": [],
   "source": [
    "df_final.drop(\"contact\").show()"
   ]
  },
  {
   "cell_type": "code",
   "execution_count": null,
   "id": "edd8b05d-e43f-4a9d-9424-a4472ae348b7",
   "metadata": {},
   "outputs": [],
   "source": []
  }
 ],
 "metadata": {
  "kernelspec": {
   "display_name": "Python 3 (ipykernel)",
   "language": "python",
   "name": "python3"
  },
  "language_info": {
   "codemirror_mode": {
    "name": "ipython",
    "version": 3
   },
   "file_extension": ".py",
   "mimetype": "text/x-python",
   "name": "python",
   "nbconvert_exporter": "python",
   "pygments_lexer": "ipython3",
   "version": "3.11.6"
  }
 },
 "nbformat": 4,
 "nbformat_minor": 5
}
