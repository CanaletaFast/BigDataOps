{
 "cells": [
  {
   "cell_type": "markdown",
   "id": "12273655-f58d-48d7-ac30-e29f352b1a42",
   "metadata": {},
   "source": [
    "## Fix Column Headers"
   ]
  },
  {
   "cell_type": "code",
   "execution_count": null,
   "id": "782638a0-1ccc-4205-9584-2c878af93067",
   "metadata": {},
   "outputs": [],
   "source": [
    "# Create Spark Session\n",
    "\n",
    "from pyspark.sql import SparkSession\n",
    "\n",
    "spark = SparkSession \\\n",
    "    .builder \\\n",
    "    .appName(\"Fix Headers\") \\\n",
    "    .master(\"spark://spark-master:7077\") \\\n",
    "    .getOrCreate()\n",
    "\n",
    "spark"
   ]
  },
  {
   "cell_type": "code",
   "execution_count": null,
   "id": "005c2b10-8b8c-4e5e-a2e4-9f1badca3778",
   "metadata": {},
   "outputs": [],
   "source": [
    "%%sh \n",
    "\n",
    "more \"dataset/students.csv\""
   ]
  },
  {
   "cell_type": "code",
   "execution_count": null,
   "id": "f01c14d8-93d6-4b9b-89d6-fd2c832fb2e8",
   "metadata": {},
   "outputs": [],
   "source": [
    "# Python function to read the column name and fix the space with underscore \"_\"\n",
    "from pyspark.sql import DataFrame\n",
    "\n",
    "def fix_header(df: DataFrame) -> list:\n",
    "    fixed_col_list: list = []\n",
    "    for col in df.columns:\n",
    "        fixed_col_list.append(f\"`{str(col).strip()}` as {str(col).strip().replace(' ','_').lower()}\")\n",
    "        \n",
    "    return fixed_col_list"
   ]
  },
  {
   "cell_type": "code",
   "execution_count": null,
   "id": "1bd66b9f-0bd6-4dee-82dd-0444f43d0557",
   "metadata": {},
   "outputs": [],
   "source": [
    "# Read the CSV file with malformed header\n",
    "raw_df = spark.read.format(\"csv\").option(\"header\", True).load(\"dataset/students.csv\")\n",
    "raw_df.printSchema()\n",
    "raw_df.show()"
   ]
  },
  {
   "cell_type": "code",
   "execution_count": null,
   "id": "6da379de-d1a1-4fe0-b68c-91e107d4ff5a",
   "metadata": {},
   "outputs": [],
   "source": [
    "# Create a new dataframe with fixed column names\n",
    "fixed_headers = fix_header(df = raw_df)\n",
    "print(fixed_headers)\n",
    "\n",
    "# Apply to create the new dataframe\n",
    "fixed_df = df.selectExpr(fixed_headers)\n",
    "fixed_df.printSchema()\n",
    "fixed_df.show()"
   ]
  },
  {
   "cell_type": "code",
   "execution_count": null,
   "id": "1cdac798-0805-4a2a-8110-6728bdad383c",
   "metadata": {},
   "outputs": [],
   "source": []
  }
 ],
 "metadata": {
  "kernelspec": {
   "display_name": "Python 3 (ipykernel)",
   "language": "python",
   "name": "python3"
  },
  "language_info": {
   "codemirror_mode": {
    "name": "ipython",
    "version": 3
   },
   "file_extension": ".py",
   "mimetype": "text/x-python",
   "name": "python",
   "nbconvert_exporter": "python",
   "pygments_lexer": "ipython3",
   "version": "3.11.6"
  }
 },
 "nbformat": 4,
 "nbformat_minor": 5
}
