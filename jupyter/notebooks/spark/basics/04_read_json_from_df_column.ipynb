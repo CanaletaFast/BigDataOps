{
 "cells": [
  {
   "cell_type": "markdown",
   "id": "a65b0eea-e223-4fbf-8f56-762f54cc7071",
   "metadata": {},
   "source": [
    "# Read JSON Data from a Dataframe Column"
   ]
  },
  {
   "cell_type": "code",
   "execution_count": null,
   "id": "b6e33d48-64fa-4d20-90d3-cb5350ee98a6",
   "metadata": {},
   "outputs": [],
   "source": [
    "# Create Spark Session\n",
    "\n",
    "from pyspark.sql import SparkSession\n",
    "\n",
    "spark = SparkSession \\\n",
    "    .builder \\\n",
    "    .appName(\"Read JSON data\") \\\n",
    "    .master(\"spark://spark-master:7077\") \\\n",
    "    .getOrCreate()\n",
    "\n",
    "spark"
   ]
  },
  {
   "cell_type": "code",
   "execution_count": null,
   "id": "1386b664-4c83-4ee4-bf95-92651fe376e6",
   "metadata": {},
   "outputs": [],
   "source": [
    "# Example Data Frame with column having JSON data\n",
    "_data = [\n",
    "    ['EMP001', '{\"dept\" : \"account\", \"fname\": \"Ramesh\", \"lname\": \"Singh\", \"skills\": [\"excel\", \"tally\", \"word\"]}'],\n",
    "    ['EMP002', '{\"dept\" : \"sales\", \"fname\": \"Siv\", \"lname\": \"Kumar\", \"skills\": [\"biking\", \"sales\"]}'],\n",
    "    ['EMP003', '{\"dept\" : \"hr\", \"fname\": \"MS Raghvan\", \"skills\": [\"communication\", \"soft-skills\"]}']\n",
    "]\n",
    "\n",
    "# Columns for the data\n",
    "_cols = ['emp_no', 'raw_data']\n",
    "\n",
    "# Lets create the raw Data Frame\n",
    "df_raw = spark.createDataFrame(data = _data, schema = _cols)\n",
    "df_raw.printSchema()\n",
    "df_raw.show(3, False)"
   ]
  },
  {
   "cell_type": "code",
   "execution_count": null,
   "id": "5dee210a-4b54-49c1-b1b5-ad56176ce003",
   "metadata": {},
   "outputs": [],
   "source": [
    "# We need to parse the JSON values from the Data Frame column - raw_data\n",
    "\n",
    "# Determine the schema of the JSON payload from the column\n",
    "json_schema_df = spark.read.json(df_raw.rdd.map(lambda row: row.raw_data))\n",
    "json_schema = json_schema_df.schema"
   ]
  },
  {
   "cell_type": "code",
   "execution_count": null,
   "id": "62f0b820-41c2-41c0-b2be-00d1685459b0",
   "metadata": {},
   "outputs": [],
   "source": [
    "# Apply the schema to payload to read the data\n",
    "from pyspark.sql.functions import from_json\n",
    "\n",
    "df_details = df_raw.withColumn(\"parsed_data\", from_json(df_raw[\"raw_data\"], json_schema)).drop(\"raw_data\")\n",
    "df_details.printSchema()                  "
   ]
  },
  {
   "cell_type": "code",
   "execution_count": null,
   "id": "bb88b180-6f3a-4e3a-b647-c1cd73cc7bcf",
   "metadata": {},
   "outputs": [],
   "source": [
    "# Lets verify the data\n",
    "df_details.select(\"emp_no\", \"parsed_data.*\").show(10, False)"
   ]
  },
  {
   "cell_type": "code",
   "execution_count": null,
   "id": "642f1daf-3292-4ed2-9d00-525a0dad8259",
   "metadata": {},
   "outputs": [],
   "source": [
    "# We can explode the data further from list\n",
    "from pyspark.sql.functions import explode\n",
    "\n",
    "df_details.select(\"emp_no\", \"parsed_data.dept\", \"parsed_data.fname\", \"parsed_data.lname\", \"parsed_data\") \\\n",
    "    .withColumn(\"skills\", explode(\"parsed_data.skills\")) \\\n",
    "    .drop(\"parsed_data\") \\\n",
    "    .show(100, False)"
   ]
  }
 ],
 "metadata": {
  "kernelspec": {
   "display_name": "Python 3 (ipykernel)",
   "language": "python",
   "name": "python3"
  },
  "language_info": {
   "codemirror_mode": {
    "name": "ipython",
    "version": 3
   },
   "file_extension": ".py",
   "mimetype": "text/x-python",
   "name": "python",
   "nbconvert_exporter": "python",
   "pygments_lexer": "ipython3",
   "version": "3.11.6"
  }
 },
 "nbformat": 4,
 "nbformat_minor": 5
}
