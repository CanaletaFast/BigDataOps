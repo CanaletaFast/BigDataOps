{
 "cells": [
  {
   "cell_type": "markdown",
   "id": "c3c8f8f8-cd3a-41bd-84f3-87410d4a017d",
   "metadata": {},
   "source": [
    "# PySpark - Create Data Frame from API"
   ]
  },
  {
   "cell_type": "code",
   "execution_count": null,
   "id": "bb1a76f5-19f1-430f-a0cc-061377558934",
   "metadata": {},
   "outputs": [],
   "source": [
    "# Create Spark Session\n",
    "\n",
    "from pyspark.sql import SparkSession\n",
    "\n",
    "spark = SparkSession \\\n",
    "    .builder \\\n",
    "    .appName(\"Read data from API\") \\\n",
    "    .master(\"spark://spark-master:7077\") \\\n",
    "    .getOrCreate()\n",
    "\n",
    "spark"
   ]
  },
  {
   "cell_type": "code",
   "execution_count": null,
   "id": "da17f2e5-4355-4c6e-aaca-15805ef44dcf",
   "metadata": {},
   "outputs": [],
   "source": [
    "# Create Python function to read data from API\n",
    "import requests, json\n",
    "\n",
    "def read_api(url: str):\n",
    "    normalized_data = dict()\n",
    "    data = requests.get(api_url).json() \n",
    "    normalized_data[\"_data\"] = data # Normalize payload to handle array situtations\n",
    "    return json.dumps(normalized_data)"
   ]
  },
  {
   "cell_type": "code",
   "execution_count": null,
   "id": "e11a24d8-a307-4f18-9d3a-cde081d1f9df",
   "metadata": {},
   "outputs": [],
   "source": [
    "api_url = r\"https://api.coindesk.com/v1/bpi/currentprice.json\"\n",
    "# api_url = \"https://api.wazirx.com/sapi/v1/tickers/24hr\"\n",
    "\n",
    "# Read data into Data Frame\n",
    "# Create payload rdd\n",
    "payload = json.loads(read_api(api_url))\n",
    "payload_rdd = spark.sparkContext.parallelize([payload])\n",
    "\n",
    "# Read from JSON\n",
    "df = spark.read.json(payload_rdd)\n",
    "df.select(\"_data\").printSchema()"
   ]
  },
  {
   "cell_type": "code",
   "execution_count": null,
   "id": "183f9e4b-7b96-4446-8c92-bc65dbf29f6d",
   "metadata": {},
   "outputs": [],
   "source": [
    "# Expand root element to read Struct Data\n",
    "df.select(\"_data.*\").show(truncate=False)"
   ]
  },
  {
   "cell_type": "code",
   "execution_count": null,
   "id": "33dd9605-b685-4e2e-a177-c618f4c43731",
   "metadata": {},
   "outputs": [],
   "source": [
    "# Expand further elements to read USD data\n",
    "df.select(\"_data.*\").select(\"bpi.*\").select(\"USD.*\").show(truncate=False)"
   ]
  },
  {
   "cell_type": "code",
   "execution_count": null,
   "id": "1e6c8f1b-7fec-4a52-be7b-0ce86eb3e36c",
   "metadata": {},
   "outputs": [],
   "source": []
  }
 ],
 "metadata": {
  "kernelspec": {
   "display_name": "Python 3 (ipykernel)",
   "language": "python",
   "name": "python3"
  },
  "language_info": {
   "codemirror_mode": {
    "name": "ipython",
    "version": 3
   },
   "file_extension": ".py",
   "mimetype": "text/x-python",
   "name": "python",
   "nbconvert_exporter": "python",
   "pygments_lexer": "ipython3",
   "version": "3.11.6"
  }
 },
 "nbformat": 4,
 "nbformat_minor": 5
}
