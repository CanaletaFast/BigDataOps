{
 "cells": [
  {
   "cell_type": "markdown",
   "id": "3634350c-aefe-44a7-98bb-6f3852394d16",
   "metadata": {},
   "source": [
    "# Flatten JSON data dynamically"
   ]
  },
  {
   "cell_type": "code",
   "execution_count": null,
   "id": "39f85317-0944-43ac-a6d6-1a454b098662",
   "metadata": {},
   "outputs": [],
   "source": [
    "# Create Spark Session\n",
    "\n",
    "from pyspark.sql import SparkSession\n",
    "\n",
    "spark = SparkSession \\\n",
    "    .builder \\\n",
    "    .appName(\"Flatten JSON data\") \\\n",
    "    .master(\"spark://spark-master:7077\") \\\n",
    "    .getOrCreate()\n",
    "\n",
    "spark"
   ]
  },
  {
   "cell_type": "code",
   "execution_count": null,
   "id": "6b1df0e8-7047-41f4-bf1e-ca609213dfbf",
   "metadata": {},
   "outputs": [],
   "source": [
    "# Lets create an Example Data Frame to hold JSON data\n",
    "\n",
    "# Example Data Frame with column having JSON data\n",
    "_data = [\n",
    "    ['EMP001', '{\"dept\" : \"account\", \"fname\": \"Ramesh\", \"lname\": \"Singh\", \"skills\": [\"excel\", \"tally\", \"word\"]}'],\n",
    "    ['EMP002', '{\"dept\" : \"sales\", \"fname\": \"Siv\", \"lname\": \"Kumar\", \"skills\": [\"biking\", \"sales\"]}'],\n",
    "    ['EMP003', '{\"dept\" : \"hr\", \"fname\": \"MS Raghvan\", \"skills\": [\"communication\", \"soft-skills\"], \"hobbies\" : {\"cycling\": \"expert\", \"computers\":\"basic\"}}']\n",
    "]\n",
    "\n",
    "# Columns for the data\n",
    "_cols = ['emp_no', 'raw_data']\n",
    "\n",
    "# Lets create the raw Data Frame\n",
    "df_raw = spark.createDataFrame(data = _data, schema = _cols)\n",
    "\n",
    "# Determine the schema of the JSON payload from the column\n",
    "json_schema_df = spark.read.json(df_raw.rdd.map(lambda row: row.raw_data))\n",
    "json_schema = json_schema_df.schema\n",
    "\n",
    "# Apply the schema to payload to read the data\n",
    "from pyspark.sql.functions import from_json\n",
    "df_details = df_raw.withColumn(\"emp_details\", from_json(df_raw[\"raw_data\"], json_schema)).drop(\"raw_data\")\n",
    "df_details.show(10, False)\n",
    "df_details.printSchema()"
   ]
  },
  {
   "cell_type": "code",
   "execution_count": null,
   "id": "52f9fe16-f0b5-419d-b1a9-c3f315eb926b",
   "metadata": {},
   "outputs": [],
   "source": [
    "# Python function to flatten the data dynamically\n",
    "from pyspark.sql import DataFrame\n",
    "\n",
    "# Create outer method to return the flattened Data Frame\n",
    "def flatten_json_df(_df: DataFrame) -> DataFrame:\n",
    "    # List to hold the dynamically generated column names\n",
    "    flattened_col_list = []\n",
    "    \n",
    "    # Inner method to iterate over Data Frame to generate the column list\n",
    "    def get_flattened_cols(df: DataFrame, struct_col: str = None) -> None:\n",
    "        for col in df.columns:\n",
    "            if df.schema[col].dataType.typeName() != 'struct':\n",
    "                if struct_col is None:\n",
    "                    flattened_col_list.append(f\"{col} as {col.replace('.','_')}\")\n",
    "                else:\n",
    "                    t = struct_col + \".\" + col\n",
    "                    flattened_col_list.append(f\"{t} as {t.replace('.','_')}\")\n",
    "            else:\n",
    "                chained_col = struct_col +\".\"+ col if struct_col is not None else col\n",
    "                get_flattened_cols(df.select(col+\".*\"), chained_col)\n",
    "    \n",
    "    # Call the inner Method\n",
    "    get_flattened_cols(_df)\n",
    "    \n",
    "    # Return the flattened Data Frame\n",
    "    return _df.selectExpr(flattened_col_list)"
   ]
  },
  {
   "cell_type": "code",
   "execution_count": null,
   "id": "8022cc39-04ec-4266-9a48-0fed056759aa",
   "metadata": {},
   "outputs": [],
   "source": [
    "# Generate the flattened DF\n",
    "flattened_df = flatten_json_df(df_details)\n",
    "flattened_df.show(10)\n",
    "\n",
    "# Print Schema\n",
    "flattened_df.printSchema()"
   ]
  },
  {
   "cell_type": "code",
   "execution_count": null,
   "id": "4771cf5d-31bd-4186-935f-c3bd87e07897",
   "metadata": {},
   "outputs": [],
   "source": [
    "# In case we now want to explode the Array/List field - emp_details_skills\n",
    "from pyspark.sql.functions import explode\n",
    "\n",
    "flattened_df.withColumn(\"skills\", explode(\"emp_details_skills\")).drop(\"emp_details_skills\").show()"
   ]
  }
 ],
 "metadata": {
  "kernelspec": {
   "display_name": "Python 3 (ipykernel)",
   "language": "python",
   "name": "python3"
  },
  "language_info": {
   "codemirror_mode": {
    "name": "ipython",
    "version": 3
   },
   "file_extension": ".py",
   "mimetype": "text/x-python",
   "name": "python",
   "nbconvert_exporter": "python",
   "pygments_lexer": "ipython3",
   "version": "3.11.6"
  }
 },
 "nbformat": 4,
 "nbformat_minor": 5
}
