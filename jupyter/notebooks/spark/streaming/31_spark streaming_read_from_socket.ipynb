{
 "cells": [
  {
   "cell_type": "markdown",
   "id": "d8c74b9a-5dfa-470a-81c6-acae9cd3669d",
   "metadata": {},
   "source": [
    "## Spark Structured Streaming - Read from Socket"
   ]
  },
  {
   "cell_type": "code",
   "execution_count": null,
   "id": "3ca7c204-931f-4edf-9696-1060bbcdc000",
   "metadata": {},
   "outputs": [],
   "source": [
    "# Create the Spark Session\n",
    "from pyspark.sql import SparkSession\n",
    "\n",
    "spark = SparkSession \\\n",
    "    .builder \\\n",
    "    .appName(\"Streaming Socket Word Count\") \\\n",
    "    .master(\"spark://spark-master:7077\") \\\n",
    "    .getOrCreate()\n",
    "\n",
    "spark"
   ]
  },
  {
   "cell_type": "code",
   "execution_count": null,
   "id": "d033b624-9706-4fa6-ab64-7ce0222ff774",
   "metadata": {},
   "outputs": [],
   "source": [
    "# Create the streaming dataframe to read from socket\n",
    "# Sockets are not recommended for Production applications is only for debugging and testing applications\n",
    "streaming_df = spark.readStream \\\n",
    "    .format(\"socket\") \\\n",
    "    .option(\"host\", \"localhost\") \\\n",
    "    .option(\"port\", \"9999\") \\\n",
    "    .load()"
   ]
  },
  {
   "cell_type": "code",
   "execution_count": null,
   "id": "b199a28b-72d2-4e6c-9e54-0513945e078c",
   "metadata": {},
   "outputs": [],
   "source": [
    "# Check the schema\n",
    "streaming_df.printSchema()"
   ]
  },
  {
   "cell_type": "code",
   "execution_count": null,
   "id": "740ca3db-812d-4763-909c-83803ede65ac",
   "metadata": {},
   "outputs": [],
   "source": [
    "# Lets split the strings based on spaces and explode the list to create words column\n",
    "words_df = streaming_df.selectExpr(\"explode(split(value, ' ')) as word\")\n",
    "\n",
    "# Check the schema\n",
    "words_df.printSchema()"
   ]
  },
  {
   "cell_type": "code",
   "execution_count": null,
   "id": "3296d111-f142-43ac-b38e-54801b6b7fd6",
   "metadata": {},
   "outputs": [],
   "source": [
    "# Now lets aggregate the words_df to find the word counts\n",
    "from pyspark.sql.functions import count\n",
    "\n",
    "# Change the shuffle partitions to 4 as we dont want to run through 200 partitions\n",
    "spark.conf.set(\"spark.sql.shuffle.partitions\", 4)\n",
    "\n",
    "# Generate aggregated dataframe for word count\n",
    "agg_words_df = words_df \\\n",
    "    .groupBy(\"word\") \\\n",
    "    .agg(count(\"word\").alias(\"count\"))\n",
    "\n",
    "# Print the schema to validate\n",
    "agg_words_df.printSchema()"
   ]
  },
  {
   "cell_type": "code",
   "execution_count": null,
   "id": "17198f08-b1d2-4658-8744-c041b132c52e",
   "metadata": {},
   "outputs": [],
   "source": [
    "# Write the output to console sink to check the output\n",
    "writing_df = agg_words_df.writeStream \\\n",
    "    .format(\"console\") \\\n",
    "    .outputMode(\"update\") \\\n",
    "    .start()\n",
    "\n",
    "# Start the streaming application to run until the following happens\n",
    "# 1. Exception in the running program\n",
    "# 2. Manual Interruption\n",
    "writing_df.awaitTermination()"
   ]
  },
  {
   "cell_type": "code",
   "execution_count": null,
   "id": "d6343a8d-0352-4410-813b-cfca29a8a1e9",
   "metadata": {},
   "outputs": [],
   "source": []
  }
 ],
 "metadata": {
  "kernelspec": {
   "display_name": "Python 3 (ipykernel)",
   "language": "python",
   "name": "python3"
  },
  "language_info": {
   "codemirror_mode": {
    "name": "ipython",
    "version": 3
   },
   "file_extension": ".py",
   "mimetype": "text/x-python",
   "name": "python",
   "nbconvert_exporter": "python",
   "pygments_lexer": "ipython3",
   "version": "3.11.6"
  }
 },
 "nbformat": 4,
 "nbformat_minor": 5
}
