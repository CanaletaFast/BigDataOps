{
 "cells": [
  {
   "cell_type": "code",
   "execution_count": null,
   "id": "725a0310-8f01-4ede-966a-265abf864da1",
   "metadata": {
    "tags": []
   },
   "outputs": [],
   "source": [
    "# Spark Session\n",
    "from pyspark.sql import SparkSession\n",
    "\n",
    "spark = (\n",
    "    SparkSession\n",
    "    .builder\n",
    "    .appName(\"Spark SQL\")\n",
    "    .master(\"spark://spark-master:7077\")\n",
    "    .enableHiveSupport()\n",
    "    .config(\"spark.sql.warehouse.dir\", \"/data/output/spark-warehouse\")\n",
    "    .getOrCreate()\n",
    ")\n",
    "\n",
    "spark"
   ]
  },
  {
   "cell_type": "code",
   "execution_count": null,
   "id": "3612195d-5439-4251-9031-f9825d7b25a0",
   "metadata": {
    "tags": []
   },
   "outputs": [],
   "source": [
    "# Read Employee data\n",
    "_schema = \"first_name string, last_name string, job_title string, dob string, email string, phone string, salary double, department_id int\"\n",
    "\n",
    "emp = spark.read.format(\"csv\").schema(_schema).option(\"header\", True).load(\"/data/input/employee_records_skewed.csv\")"
   ]
  },
  {
   "cell_type": "code",
   "execution_count": null,
   "id": "5c7976b6-ebdb-45ee-a625-7a6ff9ddd9a1",
   "metadata": {
    "tags": []
   },
   "outputs": [],
   "source": [
    "# Read DEPT CSV data\n",
    "_dept_schema = \"department_id int, department_name string, description string, city string, state string, country string\"\n",
    "\n",
    "dept = spark.read.format(\"csv\").schema(_dept_schema).option(\"header\", True).load(\"/data/input/department_data.csv\")"
   ]
  },
  {
   "cell_type": "code",
   "execution_count": null,
   "id": "6853bf7f-371d-4e14-bd43-3d6aea2eadec",
   "metadata": {
    "tags": []
   },
   "outputs": [],
   "source": [
    "# Spark Catalog (Metadata) - in-memory/hive\n",
    "\n",
    "spark.conf.get(\"spark.sql.catalogImplementation\")"
   ]
  },
  {
   "cell_type": "code",
   "execution_count": null,
   "id": "a1b6994a-07ef-42d3-a3f8-ea50ff2cac56",
   "metadata": {
    "tags": []
   },
   "outputs": [],
   "source": [
    "# Show databases\n",
    "db = spark.sql(\"show databases\")\n",
    "db.show()"
   ]
  },
  {
   "cell_type": "code",
   "execution_count": null,
   "id": "3d7960ca-d561-406d-b9ca-60dac6448b49",
   "metadata": {
    "tags": []
   },
   "outputs": [],
   "source": [
    "spark.sql(\"show tables in default\").show()"
   ]
  },
  {
   "cell_type": "code",
   "execution_count": null,
   "id": "2fdb89b1-4cef-407c-8b8d-a557b3856378",
   "metadata": {
    "tags": []
   },
   "outputs": [],
   "source": [
    "# Register dataframes are temp views\n",
    "\n",
    "emp.createOrReplaceTempView(\"emp_view\")\n",
    "\n",
    "dept.createOrReplaceTempView(\"dept_view\")\n"
   ]
  },
  {
   "cell_type": "code",
   "execution_count": null,
   "id": "71195028-b990-47a5-9466-9ed29854f406",
   "metadata": {
    "tags": []
   },
   "outputs": [],
   "source": [
    "# Show tables/view in catalog\n",
    "\n"
   ]
  },
  {
   "cell_type": "code",
   "execution_count": null,
   "id": "7f2a1068-0c2f-4ddf-9975-e56f78e57129",
   "metadata": {
    "tags": []
   },
   "outputs": [],
   "source": [
    "# View data from table\n",
    "\n",
    "emp_filtered = spark.sql(\"\"\"\n",
    "    select * from emp_view\n",
    "    where department_id = 1\n",
    "\"\"\")"
   ]
  },
  {
   "cell_type": "code",
   "execution_count": null,
   "id": "9efa345c-d4d9-4ab3-98d7-c79030e2f709",
   "metadata": {
    "tags": []
   },
   "outputs": [],
   "source": [
    "emp_filtered.show()"
   ]
  },
  {
   "cell_type": "code",
   "execution_count": null,
   "id": "f2f2cd75-8dde-43c7-a23c-8a2ed93e9ee0",
   "metadata": {
    "tags": []
   },
   "outputs": [],
   "source": [
    "# Create a new column dob_year and register as temp view\n",
    "\n",
    "emp_temp = spark.sql(\"\"\"\n",
    "    select e.*, date_format(dob, 'yyyy') as dob_year from emp_view e\n",
    "\"\"\")\n"
   ]
  },
  {
   "cell_type": "code",
   "execution_count": null,
   "id": "e9e546d0-fdb5-45b9-92ad-5204dccfd802",
   "metadata": {
    "tags": []
   },
   "outputs": [],
   "source": [
    "emp_temp.createOrReplaceTempView(\"emp_temp_view\")"
   ]
  },
  {
   "cell_type": "code",
   "execution_count": null,
   "id": "c534c1a5-9486-4bea-a242-893e7fc380aa",
   "metadata": {
    "tags": []
   },
   "outputs": [],
   "source": [
    "spark.sql(\"select * from emp_temp_view\").show()"
   ]
  },
  {
   "cell_type": "code",
   "execution_count": null,
   "id": "a7fd9877-fff9-4071-9fd8-8a8503fe3cd5",
   "metadata": {
    "tags": []
   },
   "outputs": [],
   "source": [
    "# Join emp and dept - HINTs\n",
    "\n",
    "emp_final = spark.sql(\"\"\"\n",
    "    select /*+ BROADCAST(d) */\n",
    "    e.* , d.department_name\n",
    "    from emp_view e left outer join dept_view d\n",
    "    on e.department_id = d.department_id\n",
    "\"\"\")"
   ]
  },
  {
   "cell_type": "code",
   "execution_count": null,
   "id": "4954ee48-2beb-4380-a084-6a2f18a6dcb6",
   "metadata": {
    "tags": []
   },
   "outputs": [],
   "source": [
    "# Show emp data\n",
    "\n",
    "emp_final.show()"
   ]
  },
  {
   "cell_type": "code",
   "execution_count": null,
   "id": "49a26f84-5631-4c24-814f-a6f28901d31d",
   "metadata": {
    "tags": []
   },
   "outputs": [],
   "source": [
    "# Write the data as Table\n",
    "\n",
    "emp_final.write.format(\"parquet\").saveAsTable(\"emp_final\")"
   ]
  },
  {
   "cell_type": "code",
   "execution_count": null,
   "id": "4eb18a42-365f-42b3-a7a0-e10859029982",
   "metadata": {
    "tags": []
   },
   "outputs": [],
   "source": [
    "# Read the data from Table\n",
    "\n",
    "emp_new = spark.sql(\"select * from emp_final\")"
   ]
  },
  {
   "cell_type": "code",
   "execution_count": null,
   "id": "1c990d0e-0993-44c6-8e9a-c204a1fabb3e",
   "metadata": {
    "tags": []
   },
   "outputs": [],
   "source": [
    "emp_new.show()"
   ]
  },
  {
   "cell_type": "code",
   "execution_count": null,
   "id": "1d8d21ad-c3ca-40e5-8f69-0d144f25c2bb",
   "metadata": {},
   "outputs": [],
   "source": [
    "# Persist metadata\n",
    "\n"
   ]
  },
  {
   "cell_type": "code",
   "execution_count": null,
   "id": "4328da47-4070-47bf-b223-7309d0366f90",
   "metadata": {
    "tags": []
   },
   "outputs": [],
   "source": [
    "# Show details of metadata\n",
    "\n",
    "spark.sql(\"describe extended emp_final\").show()"
   ]
  },
  {
   "cell_type": "code",
   "execution_count": null,
   "id": "b5551a20-897b-4032-be33-1445d75b5078",
   "metadata": {},
   "outputs": [],
   "source": []
  }
 ],
 "metadata": {
  "kernelspec": {
   "display_name": "Python 3 (ipykernel)",
   "language": "python",
   "name": "python3"
  },
  "language_info": {
   "codemirror_mode": {
    "name": "ipython",
    "version": 3
   },
   "file_extension": ".py",
   "mimetype": "text/x-python",
   "name": "python",
   "nbconvert_exporter": "python",
   "pygments_lexer": "ipython3",
   "version": "3.11.6"
  }
 },
 "nbformat": 4,
 "nbformat_minor": 5
}
