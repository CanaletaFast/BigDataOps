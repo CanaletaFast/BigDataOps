{
 "cells": [
  {
   "cell_type": "code",
   "execution_count": null,
   "id": "dbe4fbc4-86d7-41e8-8d59-33cc91c9cf2a",
   "metadata": {},
   "outputs": [],
   "source": [
    "# Spark Session\n",
    "from pyspark.sql import SparkSession\n",
    "\n",
    "spark = (\n",
    "    SparkSession\n",
    "    .builder\n",
    "    .appName(\"Reading Complex Data Formats\")\n",
    "    .master(\"spark://spark-master:7077\")\n",
    "    .getOrCreate()\n",
    ")\n",
    "\n",
    "spark"
   ]
  },
  {
   "cell_type": "code",
   "execution_count": null,
   "id": "0d4cb23b-6797-4129-b528-9d054eac726d",
   "metadata": {},
   "outputs": [],
   "source": [
    "# Read Parquet Sales data\n",
    "\n",
    "df_parquet = spark.read.format(\"parquet\").load(\"data/input/sales_total_parquet/*.parquet\")"
   ]
  },
  {
   "cell_type": "code",
   "execution_count": null,
   "id": "0fc792ec-0667-4a84-a2da-14b753e54948",
   "metadata": {},
   "outputs": [],
   "source": [
    "df_parquet.printSchema()"
   ]
  },
  {
   "cell_type": "code",
   "execution_count": null,
   "id": "5806879c-1845-4c51-9be4-dbdbaf2032fc",
   "metadata": {},
   "outputs": [],
   "source": [
    "df_parquet.show()"
   ]
  },
  {
   "cell_type": "code",
   "execution_count": null,
   "id": "9c030cca-3fb1-4d7d-b921-c075f26696a6",
   "metadata": {},
   "outputs": [],
   "source": [
    "# Read ORC Sales data\n",
    "\n",
    "df_orc = spark.read.format(\"orc\").load(\"data/input/sales_total_orc/*.orc\")"
   ]
  },
  {
   "cell_type": "code",
   "execution_count": null,
   "id": "4560e1ed-25d0-4b75-9749-8b7d8f66245d",
   "metadata": {},
   "outputs": [],
   "source": [
    "df_orc.printSchema()"
   ]
  },
  {
   "cell_type": "code",
   "execution_count": null,
   "id": "929c68f5-6688-4525-ba11-586f2a13c5bf",
   "metadata": {},
   "outputs": [],
   "source": [
    "df_orc.show()"
   ]
  },
  {
   "cell_type": "code",
   "execution_count": null,
   "id": "d6fed4fc-7a15-427b-abc6-be320b2ee2b9",
   "metadata": {},
   "outputs": [],
   "source": [
    "# Benefits of Columnar Storage\n",
    "\n",
    "# Lets create a simple Python decorator - {get_time} to get the execution timings\n",
    "# If you dont know about Python decorators - check out : https://www.geeksforgeeks.org/decorators-in-python/\n",
    "import time\n",
    "\n",
    "def get_time(func):\n",
    "    def inner_get_time() -> str:\n",
    "        start_time = time.time()\n",
    "        func()\n",
    "        end_time = time.time()\n",
    "        return (f\"Execution time: {(end_time - start_time)*1000} ms\")\n",
    "    print(inner_get_time())"
   ]
  },
  {
   "cell_type": "code",
   "execution_count": null,
   "id": "ce5ab3ee-1c16-4360-bfb5-9a26acbf2635",
   "metadata": {},
   "outputs": [],
   "source": [
    "@get_time\n",
    "def x():\n",
    "    df = spark.read.format(\"parquet\").load(\"data/input/sales_data.parquet\")\n",
    "    df.count()"
   ]
  },
  {
   "cell_type": "code",
   "execution_count": null,
   "id": "37f3c804-033e-4d72-aa40-5df96fa03642",
   "metadata": {},
   "outputs": [],
   "source": [
    "@get_time\n",
    "def x():\n",
    "    df = spark.read.format(\"parquet\").load(\"data/input/sales_data.parquet\")\n",
    "    df.select(\"trx_id\").count()"
   ]
  },
  {
   "cell_type": "code",
   "execution_count": null,
   "id": "9c0b99f7-a30c-401f-a5fa-9f45f98ecedc",
   "metadata": {},
   "outputs": [],
   "source": []
  },
  {
   "cell_type": "code",
   "execution_count": null,
   "id": "c0baad72-a380-416d-96b4-d8d85834294e",
   "metadata": {},
   "outputs": [],
   "source": [
    "# BONUS TIP\n",
    "# RECURSIVE READ\n",
    "\n",
    "sales_recursive\n",
    "|__ sales_1\\1.parquet\n",
    "|__ sales_1\\sales_2\\2.parquet\n",
    "\n"
   ]
  },
  {
   "cell_type": "code",
   "execution_count": null,
   "id": "21e5e859-b04f-4030-a1fc-ba35f4ab6a10",
   "metadata": {},
   "outputs": [],
   "source": [
    "df_1 = spark.read.format(\"parquet\").load(\"data/input/sales_recursive/sales_1/1.parquet\")\n",
    "df_1.show()"
   ]
  },
  {
   "cell_type": "code",
   "execution_count": null,
   "id": "d50b2043-d55c-4b02-91cb-842fe9439935",
   "metadata": {},
   "outputs": [],
   "source": [
    "df_1 = spark.read.format(\"parquet\").load(\"data/input/sales_recursive/sales_1/sales_2/2.parquet\")\n",
    "df_1.show()"
   ]
  },
  {
   "cell_type": "code",
   "execution_count": null,
   "id": "b5db0656-7060-432b-ba4e-eea6fa1c7404",
   "metadata": {},
   "outputs": [],
   "source": [
    "df_1 = spark.read.format(\"parquet\").option(\"recursiveFileLookup\", True).load(\"data/input/sales_recursive/\")\n",
    "df_1.show()"
   ]
  },
  {
   "cell_type": "code",
   "execution_count": null,
   "id": "75a75655-eb44-402e-b92a-065796c8b7e0",
   "metadata": {},
   "outputs": [],
   "source": []
  }
 ],
 "metadata": {
  "kernelspec": {
   "display_name": "Python 3 (ipykernel)",
   "language": "python",
   "name": "python3"
  },
  "language_info": {
   "codemirror_mode": {
    "name": "ipython",
    "version": 3
   },
   "file_extension": ".py",
   "mimetype": "text/x-python",
   "name": "python",
   "nbconvert_exporter": "python",
   "pygments_lexer": "ipython3",
   "version": "3.11.6"
  }
 },
 "nbformat": 4,
 "nbformat_minor": 5
}
