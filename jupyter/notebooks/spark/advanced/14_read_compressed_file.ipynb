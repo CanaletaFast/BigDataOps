{
 "cells": [
  {
   "cell_type": "markdown",
   "id": "a19f0a8d-1dce-429c-8fe9-212f2eb1eafb",
   "metadata": {},
   "source": [
    "# Read compressed file"
   ]
  },
  {
   "cell_type": "code",
   "execution_count": null,
   "id": "e3699170-0eee-4311-ba2b-6b9839ea8b36",
   "metadata": {},
   "outputs": [],
   "source": [
    "# Create Spark Session\n",
    "\n",
    "from pyspark.sql import SparkSession\n",
    "\n",
    "spark = SparkSession \\\n",
    "    .builder \\\n",
    "    .appName(\"Compressed files\") \\\n",
    "    .master(\"spark://spark-master:7077\") \\\n",
    "    .getOrCreate()\n",
    "\n",
    "spark"
   ]
  },
  {
   "cell_type": "code",
   "execution_count": null,
   "id": "4e4e874d-d37f-409f-aac6-fe4937876974",
   "metadata": {},
   "outputs": [],
   "source": [
    "# Read zipped file directly from Spark\n",
    "df_zipped = spark \\\n",
    "    .read \\\n",
    "    .format(\"csv\") \\\n",
    "    .option(\"compression\", \"gzip\") \\\n",
    "    .option(\"header\", True) \\\n",
    "    .load(\"dataset/tmp/sales.csv.gz\")\n",
    "\n",
    "df_zipped.printSchema()"
   ]
  },
  {
   "cell_type": "code",
   "execution_count": null,
   "id": "5fde56a9-32e6-4eae-ad3e-27b41c1c54fa",
   "metadata": {},
   "outputs": [],
   "source": [
    "# Check the number of partitions\n",
    "df_zipped.rdd.getNumPartitions()"
   ]
  },
  {
   "cell_type": "code",
   "execution_count": null,
   "id": "f79c85fe-5a91-42ac-aef0-67927bf6ac6a",
   "metadata": {},
   "outputs": [],
   "source": [
    "%%sh\n",
    "\n",
    "gzip -d dataset/tmp/sales.csv.gz"
   ]
  },
  {
   "cell_type": "code",
   "execution_count": null,
   "id": "260dccd3-d3e3-4474-86d7-48356626b0c0",
   "metadata": {},
   "outputs": [],
   "source": [
    "%%sh\n",
    "\n",
    "ls -lhtr dataset/tmp/"
   ]
  },
  {
   "cell_type": "code",
   "execution_count": null,
   "id": "2493d00c-7103-4af9-9c5b-e397c9b9e804",
   "metadata": {},
   "outputs": [],
   "source": [
    "# Read un-zipped file directly from Spark\n",
    "df_unzipped = spark \\\n",
    "    .read \\\n",
    "    .format(\"csv\") \\\n",
    "    .option(\"header\", True) \\\n",
    "    .load(\"dataset/tmp/sales.csv\")\n",
    "\n",
    "df_unzipped.printSchema()"
   ]
  },
  {
   "cell_type": "code",
   "execution_count": null,
   "id": "c07432d4-9b74-4a47-a57f-d8bdadebeeb5",
   "metadata": {},
   "outputs": [],
   "source": [
    "# Check the number of partitions\n",
    "df_unzipped.rdd.getNumPartitions()"
   ]
  },
  {
   "cell_type": "code",
   "execution_count": null,
   "id": "281b1ae2-3746-4ec8-bcae-97d2e4303017",
   "metadata": {},
   "outputs": [],
   "source": []
  }
 ],
 "metadata": {
  "kernelspec": {
   "display_name": "Python 3 (ipykernel)",
   "language": "python",
   "name": "python3"
  },
  "language_info": {
   "codemirror_mode": {
    "name": "ipython",
    "version": 3
   },
   "file_extension": ".py",
   "mimetype": "text/x-python",
   "name": "python",
   "nbconvert_exporter": "python",
   "pygments_lexer": "ipython3",
   "version": "3.11.6"
  }
 },
 "nbformat": 4,
 "nbformat_minor": 5
}
