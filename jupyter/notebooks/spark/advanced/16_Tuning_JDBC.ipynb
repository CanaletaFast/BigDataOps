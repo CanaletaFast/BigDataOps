{
 "cells": [
  {
   "cell_type": "markdown",
   "id": "95cb3408-2364-439b-980f-8bf08f3182fb",
   "metadata": {},
   "source": [
    "# Tuning JDBC for Optimizing SQL read"
   ]
  },
  {
   "cell_type": "code",
   "execution_count": null,
   "id": "055aade1-e660-4c7f-a6f5-d5dcf654fc0c",
   "metadata": {},
   "outputs": [],
   "source": [
    "# Create Spark Session\n",
    "\n",
    "from pyspark.sql import SparkSession\n",
    "\n",
    "spark = SparkSession \\\n",
    "    .builder \\\n",
    "    .appName(\"Tuning JDBC\") \\\n",
    "    .config('spark.jars.packages', 'org.xerial:sqlite-jdbc:3.39.3.0') \\\n",
    "    .master(\"spark://spark-master:7077\") \\\n",
    "    .getOrCreate()\n",
    "\n",
    "spark"
   ]
  },
  {
   "cell_type": "code",
   "execution_count": null,
   "id": "1f7d7efd-5f30-45bc-8464-f4f97baa2037",
   "metadata": {},
   "outputs": [],
   "source": [
    "# Lets create a simple Python decorator - {get_time} to get the execution timings\n",
    "# If you dont know about Python decorators - check out : https://www.geeksforgeeks.org/decorators-in-python/\n",
    "import time\n",
    "\n",
    "def get_time(func):\n",
    "    def inner_get_time() -> str:\n",
    "        start_time = time.time()\n",
    "        func()\n",
    "        end_time = time.time()\n",
    "        return (f\"Execution time: {(end_time - start_time)*1000} ms\")\n",
    "    print(inner_get_time())"
   ]
  },
  {
   "cell_type": "code",
   "execution_count": null,
   "id": "bd472d21-ffbc-455c-8968-4ca5f75898c6",
   "metadata": {},
   "outputs": [],
   "source": [
    "# Set up to read from JDBC SQLite database\n",
    "driver: str = \"org.sqlite.JDBC\"\n",
    "db_path: str = \"dataset/jdbc/demo-sqlite.db\"\n",
    "jdbc_url: str = \"jdbc:sqlite:\" + db_path\n",
    "table_name: str = \"sales_csv\""
   ]
  },
  {
   "cell_type": "code",
   "execution_count": null,
   "id": "85069e33-691a-47b2-b867-d6365a661506",
   "metadata": {},
   "outputs": [],
   "source": [
    "# Checking the performance for Full read without any Predicate Pushdown\n",
    "@get_time\n",
    "def x():\n",
    "    df_full = spark \\\n",
    "    .read \\\n",
    "    .format(\"jdbc\") \\\n",
    "    .option(\"driver\", driver) \\\n",
    "    .option(\"url\", jdbc_url) \\\n",
    "    .option(\"dbtable\", table_name) \\\n",
    "    .load()\n",
    "    \n",
    "    df_full.write.format(\"noop\").mode(\"overwrite\").save()\n",
    "    df_full.printSchema()\n",
    "    print(\"Number of Partitons: \"+ str(df_full.rdd.getNumPartitions()))"
   ]
  },
  {
   "cell_type": "code",
   "execution_count": null,
   "id": "53d977fd-708e-467b-b381-49bea105e935",
   "metadata": {},
   "outputs": [],
   "source": [
    "# Lets get the Lower and Upper bound for txn_id to parallize the reading process\n",
    "df_full = spark \\\n",
    "    .read \\\n",
    "    .format(\"jdbc\") \\\n",
    "    .option(\"driver\", driver) \\\n",
    "    .option(\"url\", jdbc_url) \\\n",
    "    .option(\"dbtable\", table_name) \\\n",
    "    .load()\n",
    "\n",
    "df_full.selectExpr(\"min(trx_id) as min_trx_id\", \"max(trx_id) as max_trx_id\").show()"
   ]
  },
  {
   "cell_type": "code",
   "execution_count": null,
   "id": "3b1eeafa-c002-4c33-9519-5feb01d85403",
   "metadata": {},
   "outputs": [],
   "source": [
    "# Number of Parallel Processing cores available\n",
    "spark.sparkContext.defaultParallelism"
   ]
  },
  {
   "cell_type": "code",
   "execution_count": null,
   "id": "10a6586e-823c-4dbb-a5c8-35865e8a7a10",
   "metadata": {},
   "outputs": [],
   "source": [
    "# Checking the performance for with upper/lower bound with numPartitions\n",
    "@get_time\n",
    "def x():\n",
    "    df_full = spark \\\n",
    "    .read \\\n",
    "    .format(\"jdbc\") \\\n",
    "    .option(\"driver\", driver) \\\n",
    "    .option(\"url\", jdbc_url) \\\n",
    "    .option(\"dbtable\", table_name) \\\n",
    "    .option(\"partitionColumn\", \"trx_id\") \\\n",
    "    .option(\"lowerBound\", 20) \\\n",
    "    .option(\"upperBound\", 2147474653) \\\n",
    "    .option(\"numPartitions\", 8) \\\n",
    "    .load()\n",
    "    \n",
    "    df_full.write.format(\"noop\").mode(\"overwrite\").save()\n",
    "    df_full.printSchema()\n",
    "    print(\"Number of Partitons: \"+ str(df_full.rdd.getNumPartitions()))"
   ]
  },
  {
   "cell_type": "code",
   "execution_count": null,
   "id": "8f12ad38-02b2-470e-a92c-ce8d8ffb0e13",
   "metadata": {},
   "outputs": [],
   "source": [
    "# Checking the performance for with upper/lower bound with numPartitions and fetchsize\n",
    "@get_time\n",
    "def x():\n",
    "    df_full = spark \\\n",
    "    .read \\\n",
    "    .format(\"jdbc\") \\\n",
    "    .option(\"driver\", driver) \\\n",
    "    .option(\"url\", jdbc_url) \\\n",
    "    .option(\"dbtable\", table_name) \\\n",
    "    .option(\"partitionColumn\", \"trx_id\") \\\n",
    "    .option(\"lowerBound\", 20) \\\n",
    "    .option(\"upperBound\", 2147474653) \\\n",
    "    .option(\"numPartitions\", 8) \\\n",
    "    .option(\"fetchsize\", 8000) \\\n",
    "    .load()\n",
    "    \n",
    "    df_full.write.format(\"noop\").mode(\"overwrite\").save()\n",
    "    df_full.printSchema()\n",
    "    print(\"Number of Partitons: \"+ str(df_full.rdd.getNumPartitions()))"
   ]
  }
 ],
 "metadata": {
  "kernelspec": {
   "display_name": "Python 3 (ipykernel)",
   "language": "python",
   "name": "python3"
  },
  "language_info": {
   "codemirror_mode": {
    "name": "ipython",
    "version": 3
   },
   "file_extension": ".py",
   "mimetype": "text/x-python",
   "name": "python",
   "nbconvert_exporter": "python",
   "pygments_lexer": "ipython3",
   "version": "3.11.6"
  }
 },
 "nbformat": 4,
 "nbformat_minor": 5
}
