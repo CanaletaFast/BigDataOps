{
 "cells": [
  {
   "cell_type": "markdown",
   "id": "e34afd36-4523-45a8-b413-052708d78d5e",
   "metadata": {},
   "source": [
    "### Optimize Parquet files"
   ]
  },
  {
   "cell_type": "code",
   "execution_count": null,
   "id": "aeaa402b-ac50-4974-957d-767ce0eea477",
   "metadata": {},
   "outputs": [],
   "source": [
    "# Create Spark Session\n",
    "\n",
    "from pyspark.sql import SparkSession\n",
    "\n",
    "spark = SparkSession \\\n",
    "    .builder \\\n",
    "    .appName(\"Optimize Parquet Files\") \\\n",
    "    .master(\"spark://spark-master:7077\") \\\n",
    "    .getOrCreate()\n",
    "\n",
    "spark"
   ]
  },
  {
   "cell_type": "code",
   "execution_count": null,
   "id": "6cf27d74-081a-4c39-8439-505c464e9802",
   "metadata": {},
   "outputs": [],
   "source": [
    "# Function to generate random data between 0-7\n",
    "import random\n",
    "\n",
    "def generate_data(cnt):\n",
    "    _lst = []\n",
    "    for i in range(0, cnt):\n",
    "        num = random.choice(range(0,11))\n",
    "        _lst.append([num])\n",
    "    return _lst"
   ]
  },
  {
   "cell_type": "code",
   "execution_count": null,
   "id": "3036e641-aea9-413e-b700-d3911a0e7df7",
   "metadata": {},
   "outputs": [],
   "source": [
    "# Lets create a simple Python decorator - {get_time} to get the execution timings\n",
    "# If you dont know about Python decorators - check out : https://www.geeksforgeeks.org/decorators-in-python/\n",
    "import time\n",
    "\n",
    "def get_time(func):\n",
    "    def inner_get_time() -> str:\n",
    "        start_time = time.time()\n",
    "        func()\n",
    "        end_time = time.time()\n",
    "        return (f\"Execution time: {(end_time - start_time)*1000} ms\")\n",
    "    print(inner_get_time())"
   ]
  },
  {
   "cell_type": "code",
   "execution_count": null,
   "id": "668fea16-a4d6-47b0-ad36-4ccf8268eca2",
   "metadata": {},
   "outputs": [],
   "source": [
    "# Genearte dataframe with 10M random numbers\n",
    "_data = generate_data(10000000)\n",
    "_schema = \"values int\"\n",
    "\n",
    "# Create dataframe\n",
    "df = spark.createDataFrame(data = _data, schema=_schema)"
   ]
  },
  {
   "cell_type": "code",
   "execution_count": null,
   "id": "a9cbd628-d1a4-4490-bfd4-73e1cde8f167",
   "metadata": {},
   "outputs": [],
   "source": [
    "# Write data in Parquet format\n",
    "\n",
    "@get_time\n",
    "def x(): df.write.format(\"parquet\").save(\"dataset/num/1/num.parquet\")"
   ]
  },
  {
   "cell_type": "code",
   "execution_count": null,
   "id": "21135d03-3fdf-46b8-a16d-106529461f69",
   "metadata": {},
   "outputs": [],
   "source": [
    "# Sort the data\n",
    "from pyspark.sql.functions import col, asc\n",
    "df_fixed = df.orderBy(col(\"values\").asc())"
   ]
  },
  {
   "cell_type": "code",
   "execution_count": null,
   "id": "c3b23d66-ac20-4552-9cbb-93d897a1576a",
   "metadata": {},
   "outputs": [],
   "source": [
    "# Write in Parquet format\n",
    "@get_time\n",
    "def x(): df_fixed.write.format(\"parquet\").save(\"dataset/num/2/num.parquet\")"
   ]
  },
  {
   "cell_type": "code",
   "execution_count": null,
   "id": "0ceec7da-b3ba-4a78-9a26-9f37bc0ce068",
   "metadata": {},
   "outputs": [],
   "source": [
    "# Read the data from location 1 (non-optimized)\n",
    "@get_time\n",
    "def x():\n",
    "    df = spark.read.parquet(\"dataset/num/1/num.parquet\")\n",
    "    df.write.format(\"noop\").mode(\"overwrite\").save()"
   ]
  },
  {
   "cell_type": "code",
   "execution_count": null,
   "id": "c155cff1-1b18-4a11-bafe-f20575c6b3fb",
   "metadata": {},
   "outputs": [],
   "source": [
    "# Read the data from location 2 (optimized)\n",
    "@get_time\n",
    "def x():\n",
    "    df = spark.read.parquet(\"dataset/num/2/num.parquet\")\n",
    "    df.write.format(\"noop\").mode(\"overwrite\").save()"
   ]
  },
  {
   "cell_type": "code",
   "execution_count": null,
   "id": "b1867777-8fd0-4924-b38c-516198c82055",
   "metadata": {},
   "outputs": [],
   "source": []
  }
 ],
 "metadata": {
  "kernelspec": {
   "display_name": "Python 3 (ipykernel)",
   "language": "python",
   "name": "python3"
  },
  "language_info": {
   "codemirror_mode": {
    "name": "ipython",
    "version": 3
   },
   "file_extension": ".py",
   "mimetype": "text/x-python",
   "name": "python",
   "nbconvert_exporter": "python",
   "pygments_lexer": "ipython3",
   "version": "3.11.6"
  }
 },
 "nbformat": 4,
 "nbformat_minor": 5
}
