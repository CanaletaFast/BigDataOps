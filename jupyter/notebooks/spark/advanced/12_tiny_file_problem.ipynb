{
 "cells": [
  {
   "cell_type": "markdown",
   "id": "1e0f0424-1c4e-4f62-9c48-9d9a9d2d9dfe",
   "metadata": {},
   "source": [
    "# Tiny File Problem"
   ]
  },
  {
   "cell_type": "code",
   "execution_count": null,
   "id": "b9adf32f-9e07-4801-bd27-0945d7b7975c",
   "metadata": {},
   "outputs": [],
   "source": [
    "# Create Spark Session\n",
    "\n",
    "from pyspark.sql import SparkSession\n",
    "\n",
    "spark = SparkSession \\\n",
    "    .builder \\\n",
    "    .appName(\"Tiny Files\") \\\n",
    "    .master(\"spark://spark-master:7077\") \\\n",
    "    .getOrCreate()\n",
    "\n",
    "spark"
   ]
  },
  {
   "cell_type": "code",
   "execution_count": null,
   "id": "f87d62a8-5f60-4b65-b70e-2aa0549eed47",
   "metadata": {},
   "outputs": [],
   "source": [
    "# Lets create a simple Python decorator - {get_time} to get the execution timings\n",
    "# If you dont know about Python decorators - check out : https://www.geeksforgeeks.org/decorators-in-python/\n",
    "import time\n",
    "\n",
    "def get_time(func):\n",
    "    def inner_get_time() -> str:\n",
    "        start_time = time.time()\n",
    "        func()\n",
    "        end_time = time.time()\n",
    "        return (f\"Execution time: {(end_time - start_time)*1000} ms\")\n",
    "    print(inner_get_time())"
   ]
  },
  {
   "cell_type": "code",
   "execution_count": null,
   "id": "54f3dcb2-d3b3-4f56-b762-94e264c7a24d",
   "metadata": {},
   "outputs": [],
   "source": [
    "# Lets read the single parquet file directly\n",
    "@get_time\n",
    "def x(): spark.read.parquet(\"dataset/sales.parquet\").write.format(\"noop\").mode(\"overwrite\").save()"
   ]
  },
  {
   "cell_type": "code",
   "execution_count": null,
   "id": "142c9da3-96a8-4568-8e46-9157bb9c2da3",
   "metadata": {},
   "outputs": [],
   "source": [
    "%%sh\n",
    "\n",
    "ls dataset/sales_city_id.parquet | wc -l"
   ]
  },
  {
   "cell_type": "code",
   "execution_count": null,
   "id": "ae1ae23a-48ee-4419-88ff-73fafca17d43",
   "metadata": {},
   "outputs": [],
   "source": [
    "# Read the city_id partitioned parquet files\n",
    "@get_time\n",
    "def x(): spark.read.parquet(\"dataset/sales_city_id.parquet\").write.format(\"noop\").mode(\"overwrite\").save()"
   ]
  },
  {
   "cell_type": "code",
   "execution_count": null,
   "id": "30986978-9cd7-49ae-966b-ef7ae180eeb8",
   "metadata": {},
   "outputs": [],
   "source": [
    "%%sh\n",
    "\n",
    "ls dataset/sales_trx_id.parquet | wc -l"
   ]
  },
  {
   "cell_type": "code",
   "execution_count": null,
   "id": "e6748dd9-3730-4854-9210-0b29fb090078",
   "metadata": {},
   "outputs": [],
   "source": [
    "# Read the trx_id partitioned parquet files\n",
    "@get_time\n",
    "def x(): spark.read.parquet(\"dataset/sales_trx_id.parquet\").write.format(\"noop\").mode(\"overwrite\").save()"
   ]
  },
  {
   "cell_type": "code",
   "execution_count": null,
   "id": "5fa92006-d661-4f8b-9ae1-47553ae6db6d",
   "metadata": {},
   "outputs": [],
   "source": []
  }
 ],
 "metadata": {
  "kernelspec": {
   "display_name": "Python 3 (ipykernel)",
   "language": "python",
   "name": "python3"
  },
  "language_info": {
   "codemirror_mode": {
    "name": "ipython",
    "version": 3
   },
   "file_extension": ".py",
   "mimetype": "text/x-python",
   "name": "python",
   "nbconvert_exporter": "python",
   "pygments_lexer": "ipython3",
   "version": "3.11.6"
  }
 },
 "nbformat": 4,
 "nbformat_minor": 5
}
