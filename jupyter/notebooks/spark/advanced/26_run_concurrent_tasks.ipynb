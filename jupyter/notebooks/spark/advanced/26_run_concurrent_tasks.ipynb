{
 "cells": [
  {
   "cell_type": "code",
   "execution_count": null,
   "id": "4cc14a60-6f60-495a-92c8-e81f057388a7",
   "metadata": {
    "tags": []
   },
   "outputs": [],
   "source": [
    "# Spark Session\n",
    "from pyspark.sql import SparkSession\n",
    "\n",
    "spark = (\n",
    "    SparkSession\n",
    "    .builder\n",
    "    .appName(\"Run Concurrent/Parallel task in Spark\")\n",
    "    .master(\"spark://spark-master:7077\")\n",
    "    .config(\"spark.cores.max\", 8)\n",
    "    .config(\"spark.executor.cores\", 4)\n",
    "    .config(\"spark.executor.memory\", \"512M\")\n",
    "    .getOrCreate()\n",
    ")\n",
    "\n",
    "spark"
   ]
  },
  {
   "cell_type": "code",
   "execution_count": null,
   "id": "37a4d1c6-843a-4a3d-8674-1eb6b6f34ff6",
   "metadata": {
    "tags": []
   },
   "outputs": [],
   "source": [
    "def extract_country_data(_country: str):\n",
    "    try:\n",
    "        # Read Cities data\n",
    "        df_cities = (\n",
    "            spark\n",
    "            .read\n",
    "            .format(\"csv\")\n",
    "            .option(\"header\", True)\n",
    "            .load(\"/data/input/cities.csv\")\n",
    "        )\n",
    "\n",
    "        # Fiter data\n",
    "        df_final = df_cities.where(f\"lower(country) = lower('{_country}')\")\n",
    "\n",
    "        # Write data\n",
    "        (\n",
    "            df_final\n",
    "            .coalesce(1)\n",
    "            .write\n",
    "            .format(\"csv\")\n",
    "            .mode(\"overwrite\")\n",
    "            .option(\"header\", True)\n",
    "            .save(f\"/data/output/countries/{_country.lower()}/\")\n",
    "        )\n",
    "    \n",
    "        return f\"Data Extracted for {_country} at: [/data/output/countries/{_country.lower()}/]\"\n",
    "    except Exception as e:\n",
    "        raise Exception(e)"
   ]
  },
  {
   "cell_type": "code",
   "execution_count": null,
   "id": "2110abd3-ffa0-4e3c-9992-e2a634663a22",
   "metadata": {
    "tags": []
   },
   "outputs": [],
   "source": [
    "# Use For loops to execute the jobs\n",
    "import time\n",
    "\n",
    "# Set start time\n",
    "start_time = time.time()\n",
    "\n",
    "# Run all extracts through for-loop\n",
    "_countries = ['India', 'Iran', 'Ghana', 'Australia']\n",
    "\n",
    "for _country in _countries:\n",
    "    print(extract_country_data(_country))\n",
    "\n",
    "# End time\n",
    "end_time = time.time()\n",
    "\n",
    "# Total time taken\n",
    "print(f\"total time = {end_time - start_time} seconds\")"
   ]
  },
  {
   "cell_type": "code",
   "execution_count": null,
   "id": "9eacdf70-76a4-4b5d-ae06-d67d6e321b05",
   "metadata": {
    "tags": []
   },
   "outputs": [],
   "source": [
    "# Use threads to run the queries in concurrently/parallely\n",
    "import time\n",
    "import concurrent.futures\n",
    "\n",
    "# Set start time\n",
    "start_time = time.time()\n",
    "\n",
    "_countries = ['India', 'Iran', 'Ghana', 'Australia']\n",
    "\n",
    "with concurrent.futures.ThreadPoolExecutor(max_workers=4) as executor:\n",
    "    results = {executor.submit(extract_country_data, _country) for _country in _countries}\n",
    "    \n",
    "    for result in results:\n",
    "        print(result.result())\n",
    "        \n",
    "# End time\n",
    "end_time = time.time()\n",
    "\n",
    "# Total time taken\n",
    "print(f\"total time = {end_time - start_time} seconds\")"
   ]
  },
  {
   "cell_type": "code",
   "execution_count": null,
   "id": "def3fa8f-0274-4281-a02b-c84b386475d6",
   "metadata": {},
   "outputs": [],
   "source": []
  }
 ],
 "metadata": {
  "kernelspec": {
   "display_name": "Python 3 (ipykernel)",
   "language": "python",
   "name": "python3"
  },
  "language_info": {
   "codemirror_mode": {
    "name": "ipython",
    "version": 3
   },
   "file_extension": ".py",
   "mimetype": "text/x-python",
   "name": "python",
   "nbconvert_exporter": "python",
   "pygments_lexer": "ipython3",
   "version": "3.11.6"
  }
 },
 "nbformat": 4,
 "nbformat_minor": 5
}
