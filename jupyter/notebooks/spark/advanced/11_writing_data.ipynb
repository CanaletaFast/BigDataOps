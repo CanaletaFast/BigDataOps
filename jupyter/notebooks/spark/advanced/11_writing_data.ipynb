{
 "cells": [
  {
   "cell_type": "code",
   "execution_count": null,
   "id": "4f9b45e2-f422-4dc1-a35b-9b7cdba2e2f9",
   "metadata": {
    "tags": []
   },
   "outputs": [],
   "source": [
    "# Spark Session\n",
    "from pyspark.sql import SparkSession\n",
    "\n",
    "spark = (\n",
    "    SparkSession\n",
    "    .builder\n",
    "    .appName(\"Writing data\")\n",
    "    .master(\"spark://spark-master:7077\")\n",
    "    .getOrCreate()\n",
    ")\n",
    "\n",
    "spark"
   ]
  },
  {
   "cell_type": "code",
   "execution_count": null,
   "id": "75290843-cd81-4bb7-b60f-af48e2491ce8",
   "metadata": {
    "tags": []
   },
   "outputs": [],
   "source": [
    "# Spark available cores with defaultParallism in Spark UI\n",
    "\n",
    "spark.sparkContext.defaultParallelism"
   ]
  },
  {
   "cell_type": "code",
   "execution_count": null,
   "id": "b8ef5fa5-6a9e-4a6f-928e-e5a878947355",
   "metadata": {
    "tags": []
   },
   "outputs": [],
   "source": [
    "# Emp Data & Schema\n",
    "\n",
    "emp_data = [\n",
    "    [\"001\",\"101\",\"John Doe\",\"30\",\"Male\",\"50000\",\"2015-01-01\"],\n",
    "    [\"002\",\"101\",\"Jane Smith\",\"25\",\"Female\",\"45000\",\"2016-02-15\"],\n",
    "    [\"003\",\"102\",\"Bob Brown\",\"35\",\"Male\",\"55000\",\"2014-05-01\"],\n",
    "    [\"004\",\"102\",\"Alice Lee\",\"28\",\"Female\",\"48000\",\"2017-09-30\"],\n",
    "    [\"005\",\"103\",\"Jack Chan\",\"40\",\"Male\",\"60000\",\"2013-04-01\"],\n",
    "    [\"006\",\"103\",\"Jill Wong\",\"32\",\"Female\",\"52000\",\"2018-07-01\"],\n",
    "    [\"007\",\"101\",\"James Johnson\",\"42\",\"Male\",\"70000\",\"2012-03-15\"],\n",
    "    [\"008\",\"102\",\"Kate Kim\",\"29\",\"Female\",\"51000\",\"2019-10-01\"],\n",
    "    [\"009\",\"103\",\"Tom Tan\",\"33\",\"Male\",\"58000\",\"2016-06-01\"],\n",
    "    [\"010\",\"104\",\"Lisa Lee\",\"27\",\"Female\",\"47000\",\"2018-08-01\"],\n",
    "    [\"011\",\"104\",\"David Park\",\"38\",\"Male\",\"65000\",\"2015-11-01\"],\n",
    "    [\"012\",\"105\",\"Susan Chen\",\"31\",\"Female\",\"54000\",\"2017-02-15\"],\n",
    "    [\"013\",\"106\",\"Brian Kim\",\"45\",\"Male\",\"75000\",\"2011-07-01\"],\n",
    "    [\"014\",\"107\",\"Emily Lee\",\"26\",\"Female\",\"46000\",\"2019-01-01\"],\n",
    "    [\"015\",\"106\",\"Michael Lee\",\"37\",\"Male\",\"63000\",\"2014-09-30\"],\n",
    "    [\"016\",\"107\",\"Kelly Zhang\",\"30\",\"Female\",\"49000\",\"2018-04-01\"],\n",
    "    [\"017\",\"105\",\"George Wang\",\"34\",\"Male\",\"57000\",\"2016-03-15\"],\n",
    "    [\"018\",\"104\",\"Nancy Liu\",\"29\",\"Female\",\"50000\",\"2017-06-01\"],\n",
    "    [\"019\",\"103\",\"Steven Chen\",\"36\",\"Male\",\"62000\",\"2015-08-01\"],\n",
    "    [\"020\",\"102\",\"Grace Kim\",\"32\",\"Female\",\"53000\",\"2018-11-01\"]\n",
    "]\n",
    "\n",
    "emp_schema = \"employee_id string, department_id string, name string, age string, gender string, salary string, hire_date string\""
   ]
  },
  {
   "cell_type": "code",
   "execution_count": null,
   "id": "305b58b4-7179-4f56-a384-5e73c06aa0fd",
   "metadata": {
    "tags": []
   },
   "outputs": [],
   "source": [
    "# Create emp DataFrame\n",
    "\n",
    "emp = spark.createDataFrame(data=emp_data, schema=emp_schema)"
   ]
  },
  {
   "cell_type": "code",
   "execution_count": null,
   "id": "be9a0393-4f77-4fc2-956c-89d7303ec812",
   "metadata": {
    "tags": []
   },
   "outputs": [],
   "source": [
    "# Get number of partitions and show data\n",
    "\n",
    "emp.rdd.getNumPartitions()\n",
    "emp.show()"
   ]
  },
  {
   "cell_type": "code",
   "execution_count": null,
   "id": "e63373fe-a14f-4296-baa6-23a4bd78ef65",
   "metadata": {
    "tags": []
   },
   "outputs": [],
   "source": [
    "# Write the data in parquet format\n",
    "\n",
    "emp.write.format(\"parquet\").save(\"data/output/11/2/emp.parquet\")"
   ]
  },
  {
   "cell_type": "code",
   "execution_count": null,
   "id": "3accae16-884c-4ce9-98a7-bce808f673c8",
   "metadata": {
    "tags": []
   },
   "outputs": [],
   "source": [
    "# View data partition information\n",
    "from pyspark.sql.functions import spark_partition_id\n",
    "\n",
    "emp.withColumn(\"partition_id\", spark_partition_id()).show()"
   ]
  },
  {
   "cell_type": "code",
   "execution_count": null,
   "id": "86bfdfe3-2f38-4825-93c7-0c57e587967e",
   "metadata": {
    "tags": []
   },
   "outputs": [],
   "source": [
    "emp.write.format(\"csv\").option(\"header\", True).save(\"data/output/11/3/emp.csv\")"
   ]
  },
  {
   "cell_type": "code",
   "execution_count": null,
   "id": "1aefafdb-5213-4f3c-8ebc-d107f807a328",
   "metadata": {
    "tags": []
   },
   "outputs": [],
   "source": [
    "# Write the data with Partition to output location\n",
    "\n",
    "emp.write.format(\"csv\").partitionBy(\"department_id\").option(\"header\", True).save(\"data/output/11/4/emp.csv\")"
   ]
  },
  {
   "cell_type": "code",
   "execution_count": null,
   "id": "e790d52b-deb3-4fcb-bac3-9a0d833248fe",
   "metadata": {
    "tags": []
   },
   "outputs": [],
   "source": [
    "# Write Modes - append, overwrite, ignore and error\n",
    "\n",
    "emp.write.format(\"csv\").mode(\"error\").option(\"header\", True).save(\"data/output/11/3/emp.csv\")"
   ]
  },
  {
   "cell_type": "code",
   "execution_count": null,
   "id": "3d4632a4-843d-445f-8e00-94af1a0c09f4",
   "metadata": {
    "tags": []
   },
   "outputs": [],
   "source": [
    "# Bonus TIP\n",
    "# What if we need to write only 1 output file to share with DownStream?\n",
    "\n",
    "emp.repartition(1).write.format(\"csv\").option(\"header\", True).save(\"data/output/11/5/emp.csv\")"
   ]
  },
  {
   "cell_type": "code",
   "execution_count": null,
   "id": "86ab4144-c22b-4f4a-8364-70d8b1efb27c",
   "metadata": {},
   "outputs": [],
   "source": []
  }
 ],
 "metadata": {
  "kernelspec": {
   "display_name": "Python 3 (ipykernel)",
   "language": "python",
   "name": "python3"
  },
  "language_info": {
   "codemirror_mode": {
    "name": "ipython",
    "version": 3
   },
   "file_extension": ".py",
   "mimetype": "text/x-python",
   "name": "python",
   "nbconvert_exporter": "python",
   "pygments_lexer": "ipython3",
   "version": "3.11.6"
  }
 },
 "nbformat": 4,
 "nbformat_minor": 5
}
