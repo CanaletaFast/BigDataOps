{
 "cells": [
  {
   "cell_type": "markdown",
   "id": "525df10c-3ede-4f4b-9dae-a03ac3c70826",
   "metadata": {},
   "source": [
    "# JDBC Predicate Pushdown"
   ]
  },
  {
   "cell_type": "code",
   "execution_count": null,
   "id": "0d0b62f3-06cb-4efe-ad29-b238898af089",
   "metadata": {},
   "outputs": [],
   "source": [
    "# Create Spark Session\n",
    "\n",
    "from pyspark.sql import SparkSession\n",
    "\n",
    "spark = SparkSession \\\n",
    "    .builder \\\n",
    "    .appName(\"Predicate Pushdown\") \\\n",
    "    .config('spark.jars.packages', 'org.xerial:sqlite-jdbc:3.39.3.0') \\\n",
    "    .master(\"spark://spark-master:7077\") \\\n",
    "    .getOrCreate()\n",
    "\n",
    "sparks"
   ]
  },
  {
   "cell_type": "code",
   "execution_count": null,
   "id": "eefdba71-b71d-4712-9fa0-f4ab613fd905",
   "metadata": {},
   "outputs": [],
   "source": [
    "# Lets create a simple Python decorator - {get_time} to get the execution timings\n",
    "# If you dont know about Python decorators - check out : https://www.geeksforgeeks.org/decorators-in-python/\n",
    "import time\n",
    "\n",
    "def get_time(func):\n",
    "    def inner_get_time() -> str:\n",
    "        start_time = time.time()\n",
    "        func()\n",
    "        end_time = time.time()\n",
    "        return (f\"Execution time: {(end_time - start_time)*1000} ms\")\n",
    "    print(inner_get_time())"
   ]
  },
  {
   "cell_type": "code",
   "execution_count": null,
   "id": "13163d1d-c920-424e-beca-0dd7523cee75",
   "metadata": {},
   "outputs": [],
   "source": [
    "# Set up to read from JDBC SQLite database\n",
    "driver: str = \"org.sqlite.JDBC\"\n",
    "db_path: str = \"dataset/jdbc/demo-sqlite.db\"\n",
    "jdbc_url: str = \"jdbc:sqlite:\" + db_path\n",
    "table_name: str = \"sales_csv\""
   ]
  },
  {
   "cell_type": "code",
   "execution_count": null,
   "id": "3e785501-fe71-4713-9e4d-fdc766dde59a",
   "metadata": {},
   "outputs": [],
   "source": [
    "# Lets read the SQLite table using JDBC driver and validate the data\n",
    "df = spark \\\n",
    "    .read \\\n",
    "    .format(\"jdbc\") \\\n",
    "    .option(\"driver\", driver) \\\n",
    "    .option(\"url\", jdbc_url) \\\n",
    "    .option(\"dbtable\", table_name) \\\n",
    "    .load()\n",
    "\n",
    "df.printSchema()\n",
    "df.show(10, False)"
   ]
  },
  {
   "cell_type": "code",
   "execution_count": null,
   "id": "1aa5f6c3-8d21-4d1b-91e9-520f83cb99ef",
   "metadata": {},
   "outputs": [],
   "source": [
    "# Checking the explain plan\n",
    "df.explain(True)"
   ]
  },
  {
   "cell_type": "code",
   "execution_count": null,
   "id": "bfbbd2f0-e947-4d40-8c2c-9a2f794aca14",
   "metadata": {},
   "outputs": [],
   "source": [
    "# Checking the performance for Full read without any Predicate Pushdown\n",
    "@get_time\n",
    "def x():\n",
    "    df_full = spark \\\n",
    "    .read \\\n",
    "    .format(\"jdbc\") \\\n",
    "    .option(\"driver\", driver) \\\n",
    "    .option(\"url\", jdbc_url) \\\n",
    "    .option(\"dbtable\", table_name) \\\n",
    "    .load()\n",
    "    \n",
    "    df_full.write.format(\"noop\").mode(\"overwrite\").save()\n",
    "    df_full.explain(True)"
   ]
  },
  {
   "cell_type": "code",
   "execution_count": null,
   "id": "ba921ab5-31ab-4e2d-98b5-b552e06d58d4",
   "metadata": {},
   "outputs": [],
   "source": [
    "# Checking the performance for Predicate Pushdown\n",
    "@get_time\n",
    "def x():\n",
    "    df_filtered = spark \\\n",
    "    .read \\\n",
    "    .format(\"jdbc\") \\\n",
    "    .option(\"driver\", driver) \\\n",
    "    .option(\"url\", jdbc_url) \\\n",
    "    .option(\"dbtable\", table_name) \\\n",
    "    .load() \\\n",
    "    .filter(\"city_id = 216510442\")\n",
    "    \n",
    "    df_filtered.write.format(\"noop\").mode(\"overwrite\").save()\n",
    "    df_filtered.explain(True)"
   ]
  },
  {
   "cell_type": "code",
   "execution_count": null,
   "id": "d3d2d58f-f615-48de-8ae9-62d9f3db8093",
   "metadata": {},
   "outputs": [],
   "source": [
    "# Cripple the performance for Predicate Pushdown\n",
    "@get_time\n",
    "def x():\n",
    "    df_filtered = spark \\\n",
    "    .read \\\n",
    "    .format(\"jdbc\") \\\n",
    "    .option(\"driver\", driver) \\\n",
    "    .option(\"url\", jdbc_url) \\\n",
    "    .option(\"dbtable\", table_name) \\\n",
    "    .load() \\\n",
    "    .cache() \\\n",
    "    .filter(\"city_id = 216510442\")\n",
    "    \n",
    "    df_filtered.write.format(\"noop\").mode(\"overwrite\").save()\n",
    "    df_filtered.explain(True)"
   ]
  },
  {
   "cell_type": "code",
   "execution_count": null,
   "id": "bee0d7a5-2807-4b31-89fb-4895c2d98f94",
   "metadata": {},
   "outputs": [],
   "source": [
    "# We can even push down Queries for perfomance benifits\n",
    "pushDownQuery = \"\"\"(select city_id, count(1) as cnt from sales_csv group by city_id) as sales_csv\"\"\"\n",
    "@get_time\n",
    "def x():\n",
    "    df_filtered = spark \\\n",
    "    .read \\\n",
    "    .format(\"jdbc\") \\\n",
    "    .option(\"driver\", driver) \\\n",
    "    .option(\"url\", jdbc_url) \\\n",
    "    .option(\"dbtable\", pushDownQuery) \\\n",
    "    .load()\n",
    "    \n",
    "    df_filtered.write.format(\"noop\").mode(\"overwrite\").save()\n",
    "    df_filtered.explain(True)"
   ]
  }
 ],
 "metadata": {
  "kernelspec": {
   "display_name": "Python 3 (ipykernel)",
   "language": "python",
   "name": "python3"
  },
  "language_info": {
   "codemirror_mode": {
    "name": "ipython",
    "version": 3
   },
   "file_extension": ".py",
   "mimetype": "text/x-python",
   "name": "python",
   "nbconvert_exporter": "python",
   "pygments_lexer": "ipython3",
   "version": "3.11.6"
  }
 },
 "nbformat": 4,
 "nbformat_minor": 5
}
