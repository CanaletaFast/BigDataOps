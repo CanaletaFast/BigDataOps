{
 "cells": [
  {
   "cell_type": "code",
   "execution_count": null,
   "id": "045ae0c2-6771-4119-b229-09abcd749de3",
   "metadata": {},
   "outputs": [],
   "source": [
    "# Pivot and Un-Pivot Data Frame"
   ]
  },
  {
   "cell_type": "code",
   "execution_count": null,
   "id": "fa7779d7-63c6-42d6-ae81-85160928ffec",
   "metadata": {},
   "outputs": [],
   "source": [
    "# Create Spark Session\n",
    "\n",
    "from pyspark.sql import SparkSession\n",
    "\n",
    "spark = SparkSession \\\n",
    "    .builder \\\n",
    "    .appName(\"Pivot & Un-Pivot\") \\\n",
    "    .master(\"spark://spark-master:7077\") \\\n",
    "    .getOrCreate()\n",
    "\n",
    "spark"
   ]
  },
  {
   "cell_type": "code",
   "execution_count": null,
   "id": "6fb0ff7c-2d16-48a4-bc47-54df038d39bb",
   "metadata": {},
   "outputs": [],
   "source": [
    "# Example Data Set\n",
    "\n",
    "_data = [\n",
    "\t[\"Ramesh\", \"PHY\", 90],\n",
    "\t[\"Ramesh\", \"MATH\", 95],\n",
    "\t[\"Ramesh\", \"CHEM\", 100],\n",
    "\t[\"Sangeeta\", \"PHY\", 90],\n",
    "\t[\"Sangeeta\", \"MATH\", 100],\n",
    "\t[\"Sangeeta\", \"CHEM\", 83],\n",
    "\t[\"Mohan\", \"BIO\", 90],\n",
    "\t[\"Mohan\", \"MATH\", 70],\n",
    "\t[\"Mohan\", \"CHEM\", 76],\n",
    "\t[\"Imran\", \"PHY\", 96],\n",
    "\t[\"Imran\", \"MATH\", 87],\n",
    "\t[\"Imran\", \"CHEM\", 79],\n",
    "\t[\"Imran\", \"BIO\", 82]\n",
    "]\n",
    "\n",
    "_cols = [\"NAME\", \"SUBJECT\", \"MARKS\"]\n",
    "\n",
    "# Generate Data Frame\n",
    "df = spark.createDataFrame(data=_data, schema = _cols)\n",
    "df.show(truncate = False)"
   ]
  },
  {
   "cell_type": "code",
   "execution_count": null,
   "id": "48e67bbf-8551-450a-b352-53e8f52e3e8c",
   "metadata": {},
   "outputs": [],
   "source": [
    "# Lets create a simple Python decorator - {get_time} to get the execution timings\n",
    "# If you dont know about Python decorators - check out : https://www.geeksforgeeks.org/decorators-in-python/\n",
    "import time\n",
    "\n",
    "def get_time(func):\n",
    "    def inner_get_time() -> str:\n",
    "        start_time = time.time()\n",
    "        func()\n",
    "        end_time = time.time()\n",
    "        return (f\"Execution time: {(end_time - start_time)*1000} ms\")\n",
    "    print(inner_get_time())"
   ]
  },
  {
   "cell_type": "markdown",
   "id": "f381be37-7673-44f5-9ffb-541f3b9110fe",
   "metadata": {},
   "source": [
    "### Method 1 - Without specifying column names"
   ]
  },
  {
   "cell_type": "code",
   "execution_count": null,
   "id": "296c23b1-ed2f-498e-a867-496d46e21c86",
   "metadata": {},
   "outputs": [],
   "source": [
    "# Pivot data without specifying the column names(values) and checking the execution time\n",
    "from pyspark.sql.functions import sum\n",
    "\n",
    "@get_time\n",
    "def x(): df.groupBy(\"NAME\").pivot(\"SUBJECT\").agg(sum(\"MARKS\"))"
   ]
  },
  {
   "cell_type": "code",
   "execution_count": null,
   "id": "1e355451-b115-407c-a0cb-22a00cb5bfcb",
   "metadata": {},
   "outputs": [],
   "source": [
    "# Lets check the data and schema\n",
    "pivot_df_1 = df.groupBy(\"NAME\").pivot(\"SUBJECT\").agg(sum(\"MARKS\"))\n",
    "pivot_df_1.printSchema()\n",
    "pivot_df_1.show(truncate = False)"
   ]
  },
  {
   "cell_type": "markdown",
   "id": "0d2f469c-b5ea-494e-851e-373337c8af8d",
   "metadata": {},
   "source": [
    "### Method 2 - Specifying column names"
   ]
  },
  {
   "cell_type": "code",
   "execution_count": null,
   "id": "e3c0fa37-2f06-403c-91a4-fef9eaba2223",
   "metadata": {},
   "outputs": [],
   "source": [
    "# Get the time for extracting the distinct list\n",
    "@get_time\n",
    "def x(): df.select(\"SUBJECT\").distinct().rdd.map(lambda x: x[0]).collect()"
   ]
  },
  {
   "cell_type": "code",
   "execution_count": null,
   "id": "83da5cc1-eae1-4769-aa39-c4a5cae4e811",
   "metadata": {},
   "outputs": [],
   "source": [
    "# Get the distinct list of Subjects\n",
    "_subjects = df.select(\"SUBJECT\").distinct().rdd.map(lambda x: x[0]).collect()\n",
    "_subjects"
   ]
  },
  {
   "cell_type": "code",
   "execution_count": null,
   "id": "35374b6e-5e21-4925-a4bb-ab53ac329378",
   "metadata": {},
   "outputs": [],
   "source": [
    "# Pivot data specifying the column names(values) and checking the execution time\n",
    "from pyspark.sql.functions import sum\n",
    "\n",
    "@get_time\n",
    "def x(): df.groupBy(\"NAME\").pivot(\"SUBJECT\", _subjects).agg(sum(\"MARKS\"))"
   ]
  },
  {
   "cell_type": "code",
   "execution_count": null,
   "id": "76ffe91f-39f0-42fc-8555-e829e5c35389",
   "metadata": {},
   "outputs": [],
   "source": [
    "# Lets check the data and schema\n",
    "pivot_df_2 = df.groupBy(\"NAME\").pivot(\"SUBJECT\", _subjects).agg(sum(\"MARKS\"))\n",
    "pivot_df_2.printSchema()\n",
    "pivot_df_2.show(truncate = False)"
   ]
  }
 ],
 "metadata": {
  "kernelspec": {
   "display_name": "Python 3 (ipykernel)",
   "language": "python",
   "name": "python3"
  },
  "language_info": {
   "codemirror_mode": {
    "name": "ipython",
    "version": 3
   },
   "file_extension": ".py",
   "mimetype": "text/x-python",
   "name": "python",
   "nbconvert_exporter": "python",
   "pygments_lexer": "ipython3",
   "version": "3.11.6"
  }
 },
 "nbformat": 4,
 "nbformat_minor": 5
}
