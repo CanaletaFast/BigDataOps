{
 "cells": [
  {
   "cell_type": "markdown",
   "id": "286268f6-13ca-43b9-95a0-8d80dcb44616",
   "metadata": {},
   "source": [
    "# Binary Files"
   ]
  },
  {
   "cell_type": "code",
   "execution_count": null,
   "id": "045aa11d-180c-4e14-9dd5-16e2a2fbc8bb",
   "metadata": {},
   "outputs": [],
   "source": [
    "# Create Spark Session\n",
    "\n",
    "from pyspark.sql import SparkSession\n",
    "\n",
    "spark = SparkSession \\\n",
    "    .builder \\\n",
    "    .appName(\"Binary Files\") \\\n",
    "    .master(\"spark://spark-master:7077\") \\\n",
    "    .getOrCreate()\n",
    "\n",
    "spark"
   ]
  },
  {
   "cell_type": "code",
   "execution_count": null,
   "id": "c54cc1c4-0ec6-4197-8930-f11afd52f44e",
   "metadata": {},
   "outputs": [],
   "source": [
    "%%sh\n",
    "\n",
    "ls -lhtr dataset/files"
   ]
  },
  {
   "cell_type": "code",
   "execution_count": null,
   "id": "4f799014-65ae-4a13-bcee-7245eef605f8",
   "metadata": {},
   "outputs": [],
   "source": [
    "# Lets read a .png file\n",
    "\n",
    "df_spark_png = spark \\\n",
    "    .read \\\n",
    "    .format(\"binaryFile\") \\\n",
    "    .load(\"dataset/files/spark.png\")\n",
    "\n",
    "df_spark_png.printSchema()\n",
    "df_spark_png.show()"
   ]
  },
  {
   "cell_type": "code",
   "execution_count": null,
   "id": "53f7b532-afbb-45cc-9247-29f1282696eb",
   "metadata": {},
   "outputs": [],
   "source": [
    "# Lets read all .png file\n",
    "\n",
    "df_spark_png = spark \\\n",
    "    .read \\\n",
    "    .format(\"binaryFile\") \\\n",
    "    .load(\"dataset/files/*.png\")\n",
    "\n",
    "df_spark_png.printSchema()\n",
    "df_spark_png.show()"
   ]
  },
  {
   "cell_type": "code",
   "execution_count": null,
   "id": "2f7986c3-8e2f-43f9-80e5-a93e0be1472f",
   "metadata": {},
   "outputs": [],
   "source": [
    "# We can even read PDF files\n",
    "\n",
    "df_spark_pdf = spark \\\n",
    "    .read \\\n",
    "    .format(\"binaryFile\") \\\n",
    "    .load(\"dataset/files/*.pdf\")\n",
    "\n",
    "df_spark_pdf.printSchema()\n",
    "df_spark_pdf.show()"
   ]
  },
  {
   "cell_type": "code",
   "execution_count": null,
   "id": "7e9c59d4-5be2-48e8-a10c-e042ac71bb1f",
   "metadata": {},
   "outputs": [],
   "source": [
    "# We can even read Text files as binary files\n",
    "\n",
    "df_spark_txt = spark \\\n",
    "    .read \\\n",
    "    .format(\"binaryFile\") \\\n",
    "    .load(\"dataset/example.txt\")\n",
    "\n",
    "df_spark_txt.printSchema()\n",
    "df_spark_txt.show()"
   ]
  },
  {
   "cell_type": "code",
   "execution_count": null,
   "id": "9471569e-8739-49c7-9798-7f1826b00c93",
   "metadata": {},
   "outputs": [],
   "source": [
    "# Lets generate the text file back from the binary content\n",
    "byte_content = df_spark_txt.select(\"content\").collect()[0][0]\n",
    "\n",
    "# Lets write the byte content as file back\n",
    "with open(\"dataset/new_example.txt\", \"wb\") as f:\n",
    "    f.write(byte_content)\n",
    "    f.close()"
   ]
  },
  {
   "cell_type": "code",
   "execution_count": null,
   "id": "c67bee28-0e60-42ed-92bb-f8734f0ccd34",
   "metadata": {},
   "outputs": [],
   "source": [
    "%%sh\n",
    "\n",
    "cat dataset/new_example.txt"
   ]
  },
  {
   "cell_type": "code",
   "execution_count": null,
   "id": "25b8c646-85f6-4db5-8211-050785cdc918",
   "metadata": {},
   "outputs": [],
   "source": []
  }
 ],
 "metadata": {
  "kernelspec": {
   "display_name": "Python 3 (ipykernel)",
   "language": "python",
   "name": "python3"
  },
  "language_info": {
   "codemirror_mode": {
    "name": "ipython",
    "version": 3
   },
   "file_extension": ".py",
   "mimetype": "text/x-python",
   "name": "python",
   "nbconvert_exporter": "python",
   "pygments_lexer": "ipython3",
   "version": "3.11.6"
  }
 },
 "nbformat": 4,
 "nbformat_minor": 5
}
